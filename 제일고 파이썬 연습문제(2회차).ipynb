{
 "cells": [
  {
   "cell_type": "code",
   "execution_count": 1,
   "id": "other-dividend",
   "metadata": {},
   "outputs": [
    {
     "name": "stdout",
     "output_type": "stream",
     "text": [
      "원의 반지름을 입력하세요:2\n",
      "12.56\n"
     ]
    }
   ],
   "source": [
    "#1 원의 반지름(radius)을 입력받아 원의 넓이를 구하는 프로그램을 작성하시오.\u000b",
    "\n",
    "radius = float(input(\"원의 반지름을 입력하세요:\"))\n",
    "circle = 3.14*radius**radius\n",
    "print(circle)"
   ]
  },
  {
   "cell_type": "code",
   "execution_count": 2,
   "id": "abandoned-sewing",
   "metadata": {},
   "outputs": [
    {
     "name": "stdout",
     "output_type": "stream",
     "text": [
      "몸무게:180\n",
      "키:80\n",
      "0.028125\n"
     ]
    }
   ],
   "source": [
    "#2 BMI를 구하는 프로그램을 작성하시오\n",
    "weight = float(input(\"몸무게:\"))\n",
    "height = float(input(\"키:\"))\n",
    "\n",
    "bmi = weight/(height**2)\n",
    "print(bmi)"
   ]
  },
  {
   "cell_type": "code",
   "execution_count": 3,
   "id": "living-mills",
   "metadata": {},
   "outputs": [
    {
     "name": "stdout",
     "output_type": "stream",
     "text": [
      "제곱미터 입력:83\n",
      "83.0 제곱미터는 25.107387016758423 평( 25 )입니다.\n"
     ]
    }
   ],
   "source": [
    "#3 평 <>m2 구하기\n",
    "pyeong = 3.3058\n",
    "meter = float(input(\"제곱미터 입력:\"))\n",
    "p = meter/pyeong\n",
    "\n",
    "print(meter,\"제곱미터는\", p,\"평(\",int(p),\")입니다.\")\n",
    "#print(f\"{meter} 제곱미터는 {p}평 ({int(p)}평) 입니다.\")  # f-string"
   ]
  },
  {
   "cell_type": "code",
   "execution_count": 4,
   "id": "removable-berry",
   "metadata": {
    "scrolled": true
   },
   "outputs": [
    {
     "name": "stdout",
     "output_type": "stream",
     "text": [
      "키를 입력하시오(cm):163\n",
      "163.0cm는 5.0피트 4.173228346456696인치 입니다.\n"
     ]
    }
   ],
   "source": [
    "#4 cm <> inch\n",
    "inch = 2.54\n",
    "height = float(input(\"키를 입력하시오(cm):\"))\n",
    "height_to_inch = height/inch\n",
    "#print(height_to_inch)\n",
    "feet = height_to_inch//12\n",
    "inch =  height_to_inch % 12\n",
    "print(f\"{height}cm는 {feet}피트 {inch}인치 입니다.\")"
   ]
  },
  {
   "cell_type": "markdown",
   "id": "aggregate-forward",
   "metadata": {},
   "source": [
    "## 2장 문자열과 리스트"
   ]
  },
  {
   "cell_type": "code",
   "execution_count": 5,
   "id": "indian-tobago",
   "metadata": {},
   "outputs": [
    {
     "name": "stdout",
     "output_type": "stream",
     "text": [
      "4\n",
      "3\n",
      "2\n",
      "1\n"
     ]
    }
   ],
   "source": [
    "#1 리스트를 다음과 같이 선언하여 인덱싱 연산을 이용해 리스트에 담긴 내용을 하나씩 출력해보자.이 때, 인덱스 값은 음수만 사용하라.\n",
    "\n",
    "li = [1,2,3,4]\n",
    "\n",
    "print(li[-1])\n",
    "print(li[-2])\n",
    "print(li[-3])\n",
    "print(li[-4])"
   ]
  },
  {
   "cell_type": "code",
   "execution_count": 6,
   "id": "loved-rwanda",
   "metadata": {},
   "outputs": [
    {
     "name": "stdout",
     "output_type": "stream",
     "text": [
      "[6, 2, 3, 4, 5, 1]\n"
     ]
    }
   ],
   "source": [
    "#2 리스트의 첫번째 값과 마지막 값 교환\n",
    "\n",
    "li = [1,2,3,4,5,6]\n",
    "li[0],li[-1] = li[-1],li[0]\n",
    "print(li)"
   ]
  },
  {
   "cell_type": "code",
   "execution_count": 7,
   "id": "voluntary-discrimination",
   "metadata": {},
   "outputs": [
    {
     "name": "stdout",
     "output_type": "stream",
     "text": [
      "[1, 3, 5]\n"
     ]
    }
   ],
   "source": [
    "#4 리스트 대상으로 2와 4를 삭제하라\n",
    "\n",
    "li = [1,2,3,4,5]\n",
    "li[1:4] = [3]\n",
    "print(li)"
   ]
  },
  {
   "cell_type": "code",
   "execution_count": 8,
   "id": "rapid-installation",
   "metadata": {},
   "outputs": [
    {
     "name": "stdout",
     "output_type": "stream",
     "text": [
      "[1, 2, 3, 3.5, 4, 5]\n"
     ]
    }
   ],
   "source": [
    "#5 리스트를 대상으로 3과 4 사이에 3.5를 추가해라\n",
    "li = [1,2,3,4,5]\n",
    "li[2:4] = [3,3.5,4]\n",
    "print(li)"
   ]
  },
  {
   "cell_type": "code",
   "execution_count": 9,
   "id": "recovered-spider",
   "metadata": {},
   "outputs": [
    {
     "name": "stdout",
     "output_type": "stream",
     "text": [
      "[1, 5]\n"
     ]
    }
   ],
   "source": [
    "#6 리스트를 대상으로 2,3,4를 삭제해라\n",
    "li = [1,2,3,4,5]\n",
    "li[1:4] =[]\n",
    "print(li)"
   ]
  },
  {
   "cell_type": "code",
   "execution_count": 10,
   "id": "facial-palestine",
   "metadata": {},
   "outputs": [
    {
     "name": "stdout",
     "output_type": "stream",
     "text": [
      "[2, 4, 6, 8, 10]\n"
     ]
    }
   ],
   "source": [
    "#7 리스트를 대상으로 짝수번째 위치만 뽑아 변수 nt에 저장해라\n",
    "li = [1,2,3,4,5,6,7,8,9,10]\n",
    "nt = li[1:10:2]\n",
    "print(nt)"
   ]
  },
  {
   "cell_type": "code",
   "execution_count": 11,
   "id": "permanent-quality",
   "metadata": {},
   "outputs": [
    {
     "name": "stdout",
     "output_type": "stream",
     "text": [
      "[5, 4, 3, 2, 1]\n"
     ]
    }
   ],
   "source": [
    "#8 리스트의 값을 거꾸로 출력하라\n",
    "li = [1,2,3,4,5]\n",
    "print(li[::-1])"
   ]
  },
  {
   "cell_type": "code",
   "execution_count": 12,
   "id": "gentle-sending",
   "metadata": {},
   "outputs": [
    {
     "name": "stdout",
     "output_type": "stream",
     "text": [
      "GFEDCBA\n"
     ]
    }
   ],
   "source": [
    "#9 리스트의 값을 거꾸로 출력하라\n",
    "a = \"ABCDEFG\"\n",
    "print(a[::-1])"
   ]
  },
  {
   "cell_type": "code",
   "execution_count": 13,
   "id": "applied-teddy",
   "metadata": {},
   "outputs": [
    {
     "name": "stdout",
     "output_type": "stream",
     "text": [
      "3\n",
      "2\n",
      "1\n",
      "[]\n"
     ]
    }
   ],
   "source": [
    "#10 리스트의 값을 뒤부터 꺼내라\n",
    "li = [1,2,3]\n",
    "print(li.pop())\n",
    "print(li.pop())\n",
    "print(li.pop())\n",
    "print(li)"
   ]
  },
  {
   "cell_type": "code",
   "execution_count": 14,
   "id": "powerful-public",
   "metadata": {},
   "outputs": [
    {
     "data": {
      "text/plain": [
       "[]"
      ]
     },
     "execution_count": 14,
     "metadata": {},
     "output_type": "execute_result"
    }
   ],
   "source": [
    "#11 리스트를 전부 삭제하는 clear 함수를 사용하지 말고 슬라이싱 연산으로 바꿔보자\n",
    "li = [1,2,3]\n",
    "li[:] = []\n",
    "li"
   ]
  },
  {
   "cell_type": "code",
   "execution_count": 15,
   "id": "authentic-console",
   "metadata": {},
   "outputs": [
    {
     "data": {
      "text/plain": [
       "[1, 2, 3, 4, 5]"
      ]
     },
     "execution_count": 15,
     "metadata": {},
     "output_type": "execute_result"
    }
   ],
   "source": [
    "#12 하나의 리스트에 리스트 값 연산을 추가해주는 코드를 합 연산, 슬라이싱 연산으로 교체해라.\n",
    "li = [1,2]\n",
    "#li.extend([3,4,5])\n",
    "#합 연산\n",
    "#li = li + [3,4,5]\n",
    "#슬라이싱 연산\n",
    "li[2:] = [3,4,5] \n",
    "li"
   ]
  },
  {
   "cell_type": "code",
   "execution_count": 16,
   "id": "brave-cylinder",
   "metadata": {},
   "outputs": [
    {
     "name": "stdout",
     "output_type": "stream",
     "text": [
      "THE ESPRESSO SPIRIT\n",
      "the espresso spirit\n"
     ]
    }
   ],
   "source": [
    "#13 아래 문자열을 한번은 모두 대문자로 바꾸고 다시 소문자로 모두 바꿔라\n",
    "\n",
    "str = \"The Espresso Spirit\"\n",
    "print(str.upper())\n",
    "print(str.lower())"
   ]
  },
  {
   "cell_type": "code",
   "execution_count": 17,
   "id": "jewish-johns",
   "metadata": {},
   "outputs": [
    {
     "data": {
      "text/plain": [
       "'980118'"
      ]
     },
     "execution_count": 17,
     "metadata": {},
     "output_type": "execute_result"
    }
   ],
   "source": [
    "#14 우리나라 주민등록번호에서 앞자리만 출력하라\n",
    "p1 = \"980118-1234567\"\n",
    "split = p1.split('-')\n",
    "split[0]"
   ]
  },
  {
   "cell_type": "markdown",
   "id": "derived-lewis",
   "metadata": {},
   "source": [
    "### 3장 참과 거짓 그리고 조건문"
   ]
  },
  {
   "cell_type": "code",
   "execution_count": 18,
   "id": "declared-argentina",
   "metadata": {},
   "outputs": [
    {
     "name": "stdout",
     "output_type": "stream",
     "text": [
      "값 입력 : 0\n",
      "입력한 값은 0이거나 0보다 큽니다.\n"
     ]
    }
   ],
   "source": [
    "#1 사용자로부터 정수를 입력받아 아래와 같이 한개의 답변을 입력하도록 프로그램을 만들어라\n",
    "#입력한 값은 0이거나 0보다 큽니다 or 입력한 값은 0보다 작습니다.\n",
    "number = int(input(\"값 입력 : \"))\n",
    "if(number>=0):\n",
    "    print(\"입력한 값은 0이거나 0보다 큽니다.\")\n",
    "else:\n",
    "    print(\"입력한 값은 0보다 작습니다.\")"
   ]
  },
  {
   "cell_type": "code",
   "execution_count": 19,
   "id": "european-playing",
   "metadata": {},
   "outputs": [
    {
     "name": "stdout",
     "output_type": "stream",
     "text": [
      "True\n"
     ]
    }
   ],
   "source": [
    "#2 파이썬에서 아래 연산자를 논리연산자와 관계연산자를 활용하여 바꿔라\n",
    "num =3\n",
    "if(1<num and num<5):\n",
    "    print(True)"
   ]
  },
  {
   "cell_type": "code",
   "execution_count": 20,
   "id": "muslim-picking",
   "metadata": {},
   "outputs": [
    {
     "name": "stdout",
     "output_type": "stream",
     "text": [
      "월 입력 : 2\n",
      "이번달은 28일까지 있네요.\n"
     ]
    }
   ],
   "source": [
    "#3 사용자로부터 월을 입력받아 그 값에 대해 다음 중 한 가지 답변을 하도록 코드를 만들어라.\n",
    "month = int(input(\"월 입력 : \"))\n",
    "if(month==4 or month==6 or month ==9 or month ==11):\n",
    "    print(\"이번달은 30일까지 있네요.\")\n",
    "elif(month==2):\n",
    "    print(\"이번달은 28일까지 있네요.\")\n",
    "else:\n",
    "    print(\"이번달은 31일까지 있네요\")"
   ]
  },
  {
   "cell_type": "code",
   "execution_count": 21,
   "id": "working-section",
   "metadata": {},
   "outputs": [
    {
     "name": "stdout",
     "output_type": "stream",
     "text": [
      "연 입력 : 2020\n",
      "월 입력 : 2\n",
      "이번달은 29일까지 있네요.\n"
     ]
    }
   ],
   "source": [
    "#4 위 예제 3을 변형하여 연도를 추가로 입력받고 윤년인 경우를 생각하라\n",
    "\n",
    "year = int(input(\"연 입력 : \"))\n",
    "month = int(input(\"월 입력 : \"))\n",
    "\n",
    "if(month==4 or month==6 or month ==9 or month ==11):\n",
    "    print(\"이번달은 30일까지 있네요.\")\n",
    "elif(month==2):\n",
    "    if(year % 4 == 0 and year % 100 != 0 or year % 400 == 0):\n",
    "        print(\"이번달은 29일까지 있네요.\")\n",
    "    else:\n",
    "        print(\"이번달은 28일까지 있네요.\")\n",
    "else:\n",
    "    print(\"이번달은 31일까지 있네요\")"
   ]
  }
 ],
 "metadata": {
  "kernelspec": {
   "display_name": "Python 3",
   "language": "python",
   "name": "python3"
  },
  "language_info": {
   "codemirror_mode": {
    "name": "ipython",
    "version": 3
   },
   "file_extension": ".py",
   "mimetype": "text/x-python",
   "name": "python",
   "nbconvert_exporter": "python",
   "pygments_lexer": "ipython3",
   "version": "3.8.5"
  }
 },
 "nbformat": 4,
 "nbformat_minor": 5
}
