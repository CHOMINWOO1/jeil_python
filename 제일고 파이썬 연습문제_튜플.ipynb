{
 "cells": [
  {
   "cell_type": "code",
   "execution_count": 1,
   "id": "4e67a195",
   "metadata": {},
   "outputs": [],
   "source": [
    "score = [\n",
    "\t[100, 50, 20],\n",
    "\t[75, 40, 30],\n",
    "\t[95, 100, 89],\n",
    "\t[67, 85, 70]\n",
    "]"
   ]
  },
  {
   "cell_type": "code",
   "execution_count": 2,
   "id": "55b1a5a6",
   "metadata": {},
   "outputs": [
    {
     "name": "stdout",
     "output_type": "stream",
     "text": [
      "학생 평균: 56.666666666666664\n",
      "학생 평균: 48.333333333333336\n",
      "학생 평균: 94.66666666666667\n",
      "학생 평균: 74.0\n"
     ]
    }
   ],
   "source": [
    "# 1-1\n",
    "for i in range(len(score)): # range(4)\n",
    "    s = 0\n",
    "    for j in range(len(score[i])): # range(3)\n",
    "        s += score[i][j]\n",
    "    print('학생 평균:', s / len(score[i])) # or sum / 3"
   ]
  },
  {
   "cell_type": "code",
   "execution_count": 3,
   "id": "5c96f8f8",
   "metadata": {},
   "outputs": [
    {
     "name": "stdout",
     "output_type": "stream",
     "text": [
      "학생 평균: 56.666666666666664\n",
      "학생 평균: 48.333333333333336\n",
      "학생 평균: 94.66666666666667\n",
      "학생 평균: 74.0\n"
     ]
    }
   ],
   "source": [
    "# 1-2\n",
    "# 1-1에서 sum이라 선언하면 내장함수에서 int 변수로 덮어씌워짐\n",
    "for student in score:\n",
    "    print('학생 평균:', sum(student) / len(student)) # or sum(student) / 3"
   ]
  },
  {
   "cell_type": "code",
   "execution_count": 4,
   "id": "e784a3a8",
   "metadata": {},
   "outputs": [
    {
     "name": "stdout",
     "output_type": "stream",
     "text": [
      "과목 평균: 84.25\n",
      "과목 평균: 68.75\n",
      "과목 평균: 52.25\n"
     ]
    }
   ],
   "source": [
    "# 2\n",
    "for i in range(len(score[0])):# or range(3)\n",
    "    sum = 0\n",
    "    for j in range(len(score)): # or range(4)\n",
    "        sum += score[j][i]\n",
    "    print('과목 평균:', sum / len(score)) # or sum / 4"
   ]
  },
  {
   "cell_type": "code",
   "execution_count": 5,
   "id": "10664fb1",
   "metadata": {},
   "outputs": [
    {
     "name": "stdout",
     "output_type": "stream",
     "text": [
      "63 56 49 42 35 28 21 14 7 "
     ]
    }
   ],
   "source": [
    "# 3-1\n",
    "for i in range(63, 6, -7):\n",
    "    print(i, end=' ')"
   ]
  },
  {
   "cell_type": "code",
   "execution_count": 6,
   "id": "9cdb355f",
   "metadata": {},
   "outputs": [
    {
     "name": "stdout",
     "output_type": "stream",
     "text": [
      "63 56 49 42 35 28 21 14 7 "
     ]
    }
   ],
   "source": [
    "# 3-2\n",
    "for i in range(9, 0, -1):\n",
    "    print(7*i, end=' ')"
   ]
  },
  {
   "cell_type": "code",
   "execution_count": 7,
   "id": "1e6afb4f",
   "metadata": {},
   "outputs": [
    {
     "data": {
      "text/plain": [
       "(1,\n",
       " 2,\n",
       " 3,\n",
       " 4,\n",
       " 5,\n",
       " 6,\n",
       " 7,\n",
       " 8,\n",
       " 9,\n",
       " 10,\n",
       " 11,\n",
       " 12,\n",
       " 13,\n",
       " 14,\n",
       " 15,\n",
       " 16,\n",
       " 17,\n",
       " 18,\n",
       " 19,\n",
       " 20,\n",
       " 21,\n",
       " 22,\n",
       " 23,\n",
       " 24,\n",
       " 25,\n",
       " 26,\n",
       " 27,\n",
       " 28,\n",
       " 29,\n",
       " 30,\n",
       " 31,\n",
       " 32,\n",
       " 33,\n",
       " 34,\n",
       " 35,\n",
       " 36,\n",
       " 37,\n",
       " 38,\n",
       " 39,\n",
       " 40,\n",
       " 41,\n",
       " 42,\n",
       " 43,\n",
       " 44,\n",
       " 45,\n",
       " 46,\n",
       " 47,\n",
       " 48,\n",
       " 49,\n",
       " 50,\n",
       " 51,\n",
       " 52,\n",
       " 53,\n",
       " 54,\n",
       " 55,\n",
       " 56,\n",
       " 57,\n",
       " 58,\n",
       " 59,\n",
       " 60,\n",
       " 61,\n",
       " 62,\n",
       " 63,\n",
       " 64,\n",
       " 65,\n",
       " 66,\n",
       " 67,\n",
       " 68,\n",
       " 69,\n",
       " 70,\n",
       " 71,\n",
       " 72,\n",
       " 73,\n",
       " 74,\n",
       " 75,\n",
       " 76,\n",
       " 77,\n",
       " 78,\n",
       " 79,\n",
       " 80,\n",
       " 81,\n",
       " 82,\n",
       " 83,\n",
       " 84,\n",
       " 85,\n",
       " 86,\n",
       " 87,\n",
       " 88,\n",
       " 89,\n",
       " 90,\n",
       " 91,\n",
       " 92,\n",
       " 93,\n",
       " 94,\n",
       " 95,\n",
       " 96,\n",
       " 97,\n",
       " 98,\n",
       " 99,\n",
       " 100,\n",
       " 99,\n",
       " 98,\n",
       " 97,\n",
       " 96,\n",
       " 95,\n",
       " 94,\n",
       " 93,\n",
       " 92,\n",
       " 91,\n",
       " 90,\n",
       " 89,\n",
       " 88,\n",
       " 87,\n",
       " 86,\n",
       " 85,\n",
       " 84,\n",
       " 83,\n",
       " 82,\n",
       " 81,\n",
       " 80,\n",
       " 79,\n",
       " 78,\n",
       " 77,\n",
       " 76,\n",
       " 75,\n",
       " 74,\n",
       " 73,\n",
       " 72,\n",
       " 71,\n",
       " 70,\n",
       " 69,\n",
       " 68,\n",
       " 67,\n",
       " 66,\n",
       " 65,\n",
       " 64,\n",
       " 63,\n",
       " 62,\n",
       " 61,\n",
       " 60,\n",
       " 59,\n",
       " 58,\n",
       " 57,\n",
       " 56,\n",
       " 55,\n",
       " 54,\n",
       " 53,\n",
       " 52,\n",
       " 51,\n",
       " 50,\n",
       " 49,\n",
       " 48,\n",
       " 47,\n",
       " 46,\n",
       " 45,\n",
       " 44,\n",
       " 43,\n",
       " 42,\n",
       " 41,\n",
       " 40,\n",
       " 39,\n",
       " 38,\n",
       " 37,\n",
       " 36,\n",
       " 35,\n",
       " 34,\n",
       " 33,\n",
       " 32,\n",
       " 31,\n",
       " 30,\n",
       " 29,\n",
       " 28,\n",
       " 27,\n",
       " 26,\n",
       " 25,\n",
       " 24,\n",
       " 23,\n",
       " 22,\n",
       " 21,\n",
       " 20,\n",
       " 19,\n",
       " 18,\n",
       " 17,\n",
       " 16,\n",
       " 15,\n",
       " 14,\n",
       " 13,\n",
       " 12,\n",
       " 11,\n",
       " 10,\n",
       " 9,\n",
       " 8,\n",
       " 7,\n",
       " 6,\n",
       " 5,\n",
       " 4,\n",
       " 3,\n",
       " 2,\n",
       " 1)"
      ]
     },
     "execution_count": 7,
     "metadata": {},
     "output_type": "execute_result"
    }
   ],
   "source": [
    "# 4\n",
    "tuple(range(1, 101)) + tuple(range(99, 0, -1))"
   ]
  },
  {
   "cell_type": "code",
   "execution_count": 8,
   "id": "cca32aa4",
   "metadata": {},
   "outputs": [
    {
     "name": "stdout",
     "output_type": "stream",
     "text": [
      "1\n",
      "-1\n"
     ]
    }
   ],
   "source": [
    "# 5\n",
    "def inverse(num):\n",
    "    return -num  # or -1 * num\n",
    "\n",
    "print(inverse(-1))\n",
    "print(inverse(1))"
   ]
  },
  {
   "cell_type": "code",
   "execution_count": 9,
   "id": "89f1c4d1",
   "metadata": {},
   "outputs": [
    {
     "name": "stdout",
     "output_type": "stream",
     "text": [
      "1.5\n",
      "125.0\n"
     ]
    }
   ],
   "source": [
    "# 6\n",
    "def average(a, b):\n",
    "    return (a + b) / 2\n",
    "\n",
    "print(average(1, 2))\n",
    "print(average(100, 150))"
   ]
  },
  {
   "cell_type": "code",
   "execution_count": 10,
   "id": "6efdf956",
   "metadata": {},
   "outputs": [
    {
     "name": "stdout",
     "output_type": "stream",
     "text": [
      "짝수!\n",
      "홀수!\n"
     ]
    }
   ],
   "source": [
    "# 7-1\n",
    "def is_odd_even(num):\n",
    "    if num % 2 == 0:\n",
    "        print('짝수!') # return '짝수!' 이면 아래 print 함수를 호출\n",
    "    else:\n",
    "        print('홀수!')\n",
    "\n",
    "is_odd_even(2)\n",
    "is_odd_even(3)"
   ]
  },
  {
   "cell_type": "code",
   "execution_count": 11,
   "id": "166110e1",
   "metadata": {},
   "outputs": [
    {
     "data": {
      "text/plain": [
       "True"
      ]
     },
     "execution_count": 11,
     "metadata": {},
     "output_type": "execute_result"
    }
   ],
   "source": [
    "# 7-2\n",
    "def is_even(num): # 이 함수는 판별만을 하고 싶다면?\n",
    "    if num % 2 == 0:\n",
    "        return True\n",
    "    else:  # else가 없어도 됨\n",
    "        return False # else 없으면 들여쓰기 X\n",
    "\n",
    "is_even(2)\n",
    "#list(filter(is_even, list(range(1, 11))))\n",
    "#list(filter(lambda x: x % 2 == 0, list(range(1, 11))))"
   ]
  },
  {
   "cell_type": "code",
   "execution_count": 12,
   "id": "373225e1",
   "metadata": {},
   "outputs": [
    {
     "name": "stdout",
     "output_type": "stream",
     "text": [
      "7 * 1 = 7\n",
      "7 * 2 = 14\n",
      "7 * 3 = 21\n",
      "7 * 4 = 28\n",
      "7 * 5 = 35\n",
      "7 * 6 = 42\n",
      "7 * 7 = 49\n",
      "7 * 8 = 56\n",
      "7 * 9 = 63\n"
     ]
    }
   ],
   "source": [
    "# 8-1 \n",
    "def gugudan(dan):\n",
    "    for i in range(1, 10):\n",
    "        print(dan, '*', i, '=', dan*i)\n",
    "\n",
    "gugudan(7)"
   ]
  },
  {
   "cell_type": "code",
   "execution_count": 13,
   "id": "540712eb",
   "metadata": {},
   "outputs": [
    {
     "name": "stdout",
     "output_type": "stream",
     "text": [
      "7 * 1 = 7\n",
      "7 * 2 = 14\n",
      "7 * 3 = 21\n",
      "7 * 4 = 28\n",
      "7 * 5 = 35\n",
      "7 * 6 = 42\n",
      "7 * 7 = 49\n",
      "7 * 8 = 56\n",
      "7 * 9 = 63\n"
     ]
    }
   ],
   "source": [
    "# 8-2 (f-string)\n",
    "def gugudan(dan):\n",
    "    for i in range(1, 10):\n",
    "        print(f'{dan} * {i} = {dan*i}')\n",
    "        \n",
    "gugudan(7)"
   ]
  },
  {
   "cell_type": "code",
   "execution_count": 14,
   "id": "6e95c636",
   "metadata": {},
   "outputs": [
    {
     "name": "stdout",
     "output_type": "stream",
     "text": [
      "1 2 3 \n",
      "2 3 4 \n",
      "3 4 5 \n"
     ]
    }
   ],
   "source": [
    "# 9\n",
    "for i in range(3):\n",
    "    for j in range(3):\n",
    "        print(i + j + 1, end=' ')\n",
    "    print()"
   ]
  },
  {
   "cell_type": "code",
   "execution_count": 15,
   "id": "f71f1433",
   "metadata": {},
   "outputs": [
    {
     "name": "stdout",
     "output_type": "stream",
     "text": [
      "[2, 3, 4, 5, 6]\n"
     ]
    }
   ],
   "source": [
    "# 10\n",
    "def add_list(s):\n",
    "    ''' 아래는 작동이 안됨! 리스트 s에서 하나씩 꺼내서 더함\n",
    "    for i in s:\n",
    "        i += 1\n",
    "    '''\n",
    "    for i in range(len(s)):\n",
    "        s[i] += 1 # s의 i번째 요소에 직접 접근\n",
    "    \n",
    "st = [1, 2, 3, 4, 5]\n",
    "add_list(st)\n",
    "print(st)"
   ]
  },
  {
   "cell_type": "code",
   "execution_count": 16,
   "id": "5bc930e5",
   "metadata": {},
   "outputs": [
    {
     "name": "stdout",
     "output_type": "stream",
     "text": [
      "{'새우깡': 700, '콘치즈': 850, '꼬깔콘': 750, '홈런볼': 900}\n"
     ]
    }
   ],
   "source": [
    "# 11-1\n",
    "dc = {'새우깡': 700, '콘치즈': 850, '꼬깔콘': 750}\n",
    "dc['홈런볼'] = 900\n",
    "print(dc)"
   ]
  },
  {
   "cell_type": "code",
   "execution_count": 17,
   "id": "a316d522",
   "metadata": {},
   "outputs": [
    {
     "name": "stdout",
     "output_type": "stream",
     "text": [
      "{'새우깡': 700, '콘치즈': 850, '꼬깔콘': 750, '홈런볼': 900}\n"
     ]
    }
   ],
   "source": [
    "# 11-2 (안전한 방법)\n",
    "if '홈런볼' not in dc:\n",
    "    dc['홈런볼'] = 900\n",
    "\n",
    "print(dc)"
   ]
  },
  {
   "cell_type": "code",
   "execution_count": 18,
   "id": "9d870afb",
   "metadata": {},
   "outputs": [
    {
     "name": "stdout",
     "output_type": "stream",
     "text": [
      "{'새우깡': 700, '콘치즈': 850, '꼬깔콘': 750, '홈런볼': 900}\n"
     ]
    }
   ],
   "source": [
    "# 11-3\n",
    "# print(dc.keys()) # 키 만\n",
    "# print(dc.values()) # 값 만\n",
    "# print(dc.items()) # 튜플 쌍\n",
    "if '홈런볼' not in dc.keys():\n",
    "    dc['홈런볼'] = 900\n",
    "\n",
    "print(dc)"
   ]
  },
  {
   "cell_type": "code",
   "execution_count": 19,
   "id": "f04efff1",
   "metadata": {},
   "outputs": [
    {
     "name": "stdout",
     "output_type": "stream",
     "text": [
      "{'새우깡': 800, '콘치즈': 950, '꼬깔콘': 850, '홈런볼': 1000}\n"
     ]
    }
   ],
   "source": [
    "# 12\n",
    "for k in dc:\n",
    "    dc[k] += 100\n",
    "\n",
    "print(dc)"
   ]
  },
  {
   "cell_type": "code",
   "execution_count": 20,
   "id": "e3ee8989",
   "metadata": {},
   "outputs": [
    {
     "name": "stdout",
     "output_type": "stream",
     "text": [
      "{'새우깡': 800, '꼬깔콘': 850, '홈런볼': 1000}\n",
      "{'새우깡': 800, '꼬깔콘': 850, '홈런볼': 1000, '치즈콘': 950}\n"
     ]
    }
   ],
   "source": [
    "# 13\n",
    "del dc['콘치즈']\n",
    "print(dc)\n",
    "dc['치즈콘'] = 950\n",
    "print(dc)"
   ]
  },
  {
   "cell_type": "code",
   "execution_count": 21,
   "id": "bcfdb3cd",
   "metadata": {},
   "outputs": [],
   "source": [
    "# p1\n",
    "def permutation(n, r):\n",
    "    P = 1\n",
    "    for i in range(n, n - r + 1 - 1, -1): # n - r + 1까지 하면 결국 n - r까지임!\n",
    "        P *= i\n",
    "    \n",
    "    return P"
   ]
  },
  {
   "cell_type": "code",
   "execution_count": 22,
   "id": "60d6309e",
   "metadata": {},
   "outputs": [
    {
     "name": "stdout",
     "output_type": "stream",
     "text": [
      "n: 10\n",
      "r: 7\n",
      "604800\n"
     ]
    }
   ],
   "source": [
    "n = int(input('n: '))\n",
    "r = int(input('r: '))\n",
    "\n",
    "print(permutation(n, r))"
   ]
  },
  {
   "cell_type": "code",
   "execution_count": 23,
   "id": "099d3718",
   "metadata": {},
   "outputs": [],
   "source": [
    "# p2\n",
    "# my_math.py에 함수 만들기\n",
    "# import my_math (as mm)\n",
    "# or from my_math import permutation (as p)"
   ]
  },
  {
   "cell_type": "code",
   "execution_count": 24,
   "id": "5cc37be3",
   "metadata": {},
   "outputs": [],
   "source": [
    "# p3-p4: while 문안 공통 코드 함수로 뽑고 모듈로 만들어서 불러오기"
   ]
  }
 ],
 "metadata": {
  "kernelspec": {
   "display_name": "Python 3 (ipykernel)",
   "language": "python",
   "name": "python3"
  },
  "language_info": {
   "codemirror_mode": {
    "name": "ipython",
    "version": 3
   },
   "file_extension": ".py",
   "mimetype": "text/x-python",
   "name": "python",
   "nbconvert_exporter": "python",
   "pygments_lexer": "ipython3",
   "version": "3.9.12"
  }
 },
 "nbformat": 4,
 "nbformat_minor": 5
}
