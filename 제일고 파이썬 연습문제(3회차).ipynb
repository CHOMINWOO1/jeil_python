{
 "cells": [
  {
   "cell_type": "code",
   "execution_count": 1,
   "id": "coordinate-intermediate",
   "metadata": {},
   "outputs": [
    {
     "name": "stdout",
     "output_type": "stream",
     "text": [
      "THE ESPRESSO SPIRIT\n",
      "the espresso spirit\n"
     ]
    }
   ],
   "source": [
    "#13 아래 문자열을 한번은 모두 대문자로 바꾸고 다시 소문자로 모두 바꿔라\n",
    "\n",
    "str = \"The Espresso Spirit\"\n",
    "print(str.upper())\n",
    "print(str.lower())"
   ]
  },
  {
   "cell_type": "code",
   "execution_count": 2,
   "id": "solid-president",
   "metadata": {},
   "outputs": [
    {
     "data": {
      "text/plain": [
       "'980118'"
      ]
     },
     "execution_count": 2,
     "metadata": {},
     "output_type": "execute_result"
    }
   ],
   "source": [
    "#14 우리나라 주민등록번호에서 앞자리만 출력하라\n",
    "p1 = \"980118-1234567\"\n",
    "split = p1.split('-')\n",
    "split[0]"
   ]
  },
  {
   "cell_type": "markdown",
   "id": "several-edwards",
   "metadata": {},
   "source": [
    "### 3장 참과 거짓 그리고 조건문"
   ]
  },
  {
   "cell_type": "code",
   "execution_count": 3,
   "id": "joint-destination",
   "metadata": {},
   "outputs": [
    {
     "name": "stdout",
     "output_type": "stream",
     "text": [
      "값 입력 : 10\n",
      "입력한 값은 0이거나 0보다 큽니다.\n"
     ]
    }
   ],
   "source": [
    "#1 사용자로부터 정수를 입력받아 아래와 같이 한개의 답변을 입력하도록 프로그램을 만들어라\n",
    "#입력한 값은 0이거나 0보다 큽니다 or 입력한 값은 0보다 작습니다.\n",
    "number = int(input(\"값 입력 : \"))\n",
    "if(number>=0):\n",
    "    print(\"입력한 값은 0이거나 0보다 큽니다.\")\n",
    "else:\n",
    "    print(\"입력한 값은 0보다 작습니다.\")"
   ]
  },
  {
   "cell_type": "code",
   "execution_count": 4,
   "id": "focal-cooperation",
   "metadata": {},
   "outputs": [
    {
     "name": "stdout",
     "output_type": "stream",
     "text": [
      "True\n"
     ]
    }
   ],
   "source": [
    "#2 파이썬에서 아래 연산자를 논리연산자와 관계연산자를 활용하여 바꿔라\n",
    "num =3\n",
    "if(1<num and num<5):\n",
    "    print(True)"
   ]
  },
  {
   "cell_type": "code",
   "execution_count": 5,
   "id": "capital-springfield",
   "metadata": {},
   "outputs": [
    {
     "name": "stdout",
     "output_type": "stream",
     "text": [
      "월 입력 : 2\n",
      "이번달은 28일까지 있네요.\n"
     ]
    }
   ],
   "source": [
    "#3 사용자로부터 월을 입력받아 그 값에 대해 다음 중 한 가지 답변을 하도록 코드를 만들어라.\n",
    "month = int(input(\"월 입력 : \"))\n",
    "if(month==4 or month==6 or month ==9 or month ==11):\n",
    "    print(\"이번달은 30일까지 있네요.\")\n",
    "elif(month==2):\n",
    "    print(\"이번달은 28일까지 있네요.\")\n",
    "else:\n",
    "    print(\"이번달은 31일까지 있네요\")"
   ]
  },
  {
   "cell_type": "code",
   "execution_count": 6,
   "id": "seventh-stretch",
   "metadata": {
    "scrolled": true
   },
   "outputs": [
    {
     "name": "stdout",
     "output_type": "stream",
     "text": [
      "연 입력 : 2000\n",
      "월 입력 : 2\n",
      "이번달은 29일까지 있네요.\n"
     ]
    }
   ],
   "source": [
    "#4 위 예제 3을 변형하여 연도를 추가로 입력받고 윤년인 경우를 생각하라\n",
    "\n",
    "year = int(input(\"연 입력 : \"))\n",
    "month = int(input(\"월 입력 : \"))\n",
    "\n",
    "if(month==4 or month==6 or month ==9 or month ==11):\n",
    "    print(\"이번달은 30일까지 있네요.\")\n",
    "elif(month==2):\n",
    "    if(year % 4 == 0 and year % 100 != 0 or year % 400 == 0):\n",
    "        print(\"이번달은 29일까지 있네요.\")\n",
    "    else:\n",
    "        print(\"이번달은 28일까지 있네요.\")\n",
    "else:\n",
    "    print(\"이번달은 31일까지 있네요\")"
   ]
  },
  {
   "cell_type": "code",
   "execution_count": 7,
   "id": "moral-layout",
   "metadata": {},
   "outputs": [
    {
     "name": "stdout",
     "output_type": "stream",
     "text": [
      "정수를 입력하세요: g\n",
      "정수가 아닙니다.\n"
     ]
    }
   ],
   "source": [
    "#5 사용자가 정수를 입력하면 그 수의 거듭제곱 값을 출력하라.\n",
    "\n",
    "num = input(\"정수를 입력하세요: \")\n",
    "if num.isdigit():\n",
    "    num = int(num)\n",
    "    result = num ** 2\n",
    "    print(num,\"의 거듭제곱 값은\",result,\"입니다.\")\n",
    "else:\n",
    "    print(\"정수가 아닙니다.\")"
   ]
  },
  {
   "cell_type": "code",
   "execution_count": 8,
   "id": "associate-particular",
   "metadata": {},
   "outputs": [
    {
     "name": "stdout",
     "output_type": "stream",
     "text": [
      "패스워드를 입력하세요: ABC258\n",
      "로그인 되었습니다.\n"
     ]
    }
   ],
   "source": [
    "#6 파이썬으로 사용자가 입력한 패스워드를 검사하여 로그인 여부를 출력하라. 패스워드 : ABC258\n",
    "\n",
    "password = input(\"패스워드를 입력하세요: \")\n",
    "if password == \"ABC258\":\n",
    "    print(\"로그인 되었습니다.\")\n",
    "else:\n",
    "    print(\"패스워드를 확인하세요.\")"
   ]
  },
  {
   "cell_type": "markdown",
   "id": "completed-thriller",
   "metadata": {},
   "source": [
    "### 4장 반복문"
   ]
  },
  {
   "cell_type": "code",
   "execution_count": 9,
   "id": "correct-millennium",
   "metadata": {},
   "outputs": [
    {
     "name": "stdout",
     "output_type": "stream",
     "text": [
      "3628800\n"
     ]
    }
   ],
   "source": [
    "#1 1~10까지 값을 곱한 결과를 출력하라.\n",
    "\n",
    "sum=1\n",
    "for i in [1,2,3,4,5,6,7,8,9,10]:\n",
    "    sum = sum*i\n",
    "print(sum)"
   ]
  },
  {
   "cell_type": "code",
   "execution_count": 10,
   "id": "approximate-junction",
   "metadata": {},
   "outputs": [
    {
     "name": "stdout",
     "output_type": "stream",
     "text": [
      "7 x 9 = 63\n",
      "7 x 8 = 56\n",
      "7 x 7 = 49\n",
      "7 x 6 = 42\n",
      "7 x 5 = 35\n",
      "7 x 4 = 28\n",
      "7 x 3 = 21\n",
      "7 x 2 = 14\n",
      "7 x 1 = 7\n"
     ]
    }
   ],
   "source": [
    "#2 구구단 7단을 거꾸로 출력하라.\n",
    "\n",
    "for i in [9,8,7,6,5,4,3,2,1]:\n",
    "    result = 7*i\n",
    "    print(\"7 x\",i,\"=\",result)"
   ]
  },
  {
   "cell_type": "code",
   "execution_count": 11,
   "id": "molecular-librarian",
   "metadata": {},
   "outputs": [
    {
     "name": "stdout",
     "output_type": "stream",
     "text": [
      "몇 번 출력하시겠습니까? 3\n",
      "안녕하세요\n",
      "안녕하세요\n",
      "안녕하세요\n"
     ]
    }
   ],
   "source": [
    "#3 안녕하세요를 출력하고자 한다. 몇 번 출력할지 입력받아 그 숫자에 맞게 출력하시오.\n",
    "count = int(input(\"몇 번 출력하시겠습니까? \"))\n",
    "for _ in range(count):\n",
    "    print(\"안녕하세요\")"
   ]
  },
  {
   "cell_type": "code",
   "execution_count": 12,
   "id": "infrared-jewelry",
   "metadata": {},
   "outputs": [
    {
     "name": "stdout",
     "output_type": "stream",
     "text": [
      "55\n"
     ]
    }
   ],
   "source": [
    "#4 1~10까지 누적합을 range를 이용해서 구하시오.\n",
    "total = 0\n",
    "for i in range(1, 11):\n",
    "    total += i\n",
    "\n",
    "print(total)"
   ]
  },
  {
   "cell_type": "code",
   "execution_count": 13,
   "id": "active-basin",
   "metadata": {
    "scrolled": false
   },
   "outputs": [
    {
     "name": "stdout",
     "output_type": "stream",
     "text": [
      "0\n",
      "1\n",
      "2\n",
      "3\n",
      "4\n",
      "5\n",
      "6\n",
      "7\n",
      "8\n",
      "9\n"
     ]
    }
   ],
   "source": [
    "#5 0~9까지 하나씩 증가하면서 출력을 보이는 코드를 while문을 사용하여 작성하라\n",
    "num = 0\n",
    "while num <= 9:\n",
    "    print(num)\n",
    "    num += 1"
   ]
  },
  {
   "cell_type": "code",
   "execution_count": 14,
   "id": "written-crack",
   "metadata": {},
   "outputs": [
    {
     "name": "stdout",
     "output_type": "stream",
     "text": [
      "9\n",
      "8\n",
      "7\n",
      "6\n",
      "5\n",
      "4\n",
      "3\n",
      "2\n",
      "1\n",
      "0\n"
     ]
    }
   ],
   "source": [
    "#6 9~0까지 하나씩 감소시키면서 출력을 보이는 코드를 while문을 사용하여 작성하라\n",
    "num = 9\n",
    "while num >= 0:\n",
    "    print(num)\n",
    "    num -= 1"
   ]
  },
  {
   "cell_type": "code",
   "execution_count": 15,
   "id": "directed-riding",
   "metadata": {},
   "outputs": [
    {
     "name": "stdout",
     "output_type": "stream",
     "text": [
      "42\n"
     ]
    }
   ],
   "source": [
    "#7 다음 수식 [3*(빈칸)/2 = 63]에 대해 while문을 사용하여 1부터 하나씩 증가시켜 값을 찾아라\n",
    "target = 63\n",
    "num = 1\n",
    "found = False\n",
    "\n",
    "#hile found==False:\n",
    "while not found:\n",
    "    result = 3 * num / 2\n",
    "    if result == target:\n",
    "        found=True\n",
    "    else:\n",
    "        num += 1\n",
    "\n",
    "print(num)"
   ]
  },
  {
   "cell_type": "code",
   "execution_count": 16,
   "id": "owned-western",
   "metadata": {},
   "outputs": [
    {
     "name": "stdout",
     "output_type": "stream",
     "text": [
      "14 더했을 때의 합 105 "
     ]
    }
   ],
   "source": [
    "def main():\n",
    "    i = 1\n",
    "    sum = 0\n",
    "    while sum <= 100:\n",
    "        sum = sum + i\n",
    "        i = i + 1\n",
    "    print(i-1, \"더했을 때의 합\", sum, end = ' ')\n",
    "\n",
    "main()\n"
   ]
  },
  {
   "cell_type": "code",
   "execution_count": 17,
   "id": "processed-pearl",
   "metadata": {},
   "outputs": [
    {
     "name": "stdout",
     "output_type": "stream",
     "text": [
      "90\n"
     ]
    }
   ],
   "source": [
    "#8 6과 45의 최소공배수를 구하는 코드를 while 루프 기반으로 작성하라. num을 45부터 1씩 증가하라.\n",
    "num = 45\n",
    "\n",
    "while True:\n",
    "    if num % 6 == 0 and num % 45 == 0:\n",
    "        break\n",
    "    num += 1\n",
    "\n",
    "print(num)"
   ]
  },
  {
   "cell_type": "code",
   "execution_count": 18,
   "id": "bound-ethiopia",
   "metadata": {},
   "outputs": [
    {
     "name": "stdout",
     "output_type": "stream",
     "text": [
      "6\n"
     ]
    }
   ],
   "source": [
    "#9 42과 120의 최대공약수를 구하는 코드를 while 루프 기반으로 작성하라. num을 42부터 시작해 1씩 감소하라.\n",
    "num = 42\n",
    "\n",
    "while num>0:\n",
    "    if 42 % num == 0 and 120 % num == 0:\n",
    "        break\n",
    "    num -=1\n",
    "print(num)"
   ]
  },
  {
   "cell_type": "code",
   "execution_count": 19,
   "id": "fundamental-quarterly",
   "metadata": {},
   "outputs": [
    {
     "name": "stdout",
     "output_type": "stream",
     "text": [
      "7 x 1 = 7\n",
      "7 x 3 = 21\n",
      "7 x 5 = 35\n",
      "7 x 7 = 49\n",
      "7 x 9 = 63\n"
     ]
    }
   ],
   "source": [
    "#10 구구단에서 7단을 출력하라. 단, 값이 홀수인 경우에만 출력하라.\n",
    "\n",
    "for i in range(1, 10):\n",
    "    result = 7 * i\n",
    "    if result % 2 == 0:\n",
    "        continue\n",
    "    print(\"7 x\",i,\"=\",result)"
   ]
  },
  {
   "cell_type": "code",
   "execution_count": 20,
   "id": "signed-candle",
   "metadata": {},
   "outputs": [
    {
     "name": "stdout",
     "output_type": "stream",
     "text": [
      "5 7 11 13 17 19 23 25 29 31 35 37 41 43 47 49 53 55 59 61 65 67 71 73 77 79 83 85 89 91 95 97 "
     ]
    }
   ],
   "source": [
    "#11 2 이상 100 미만의 정수 중 2로 나누어지지 않고 동시에 3으로 나눠지지 않는 수를 찾아 출력하라. while문으로 작성하라\n",
    "num = 2\n",
    "\n",
    "while num < 100:\n",
    "    if num % 2 != 0 and num % 3 != 0:\n",
    "        print(num,end=' ')\n",
    "    num += 1"
   ]
  },
  {
   "cell_type": "code",
   "execution_count": 21,
   "id": "decent-craft",
   "metadata": {},
   "outputs": [
    {
     "name": "stdout",
     "output_type": "stream",
     "text": [
      "5 7 11 13 17 19 23 25 29 31 35 37 41 43 47 49 53 55 59 61 65 67 71 73 77 79 83 85 89 91 95 97 "
     ]
    }
   ],
   "source": [
    "#12 예제 11번의 방식을 변경하시오. continue를 사용한 코드 <> continue를 사용하지 않은 코드\n",
    "num = 2\n",
    "\n",
    "while num < 100:\n",
    "    if num % 2 == 0 or num % 3 == 0:\n",
    "        num += 1\n",
    "        continue\n",
    "    print(num, end=' ')\n",
    "    num += 1"
   ]
  },
  {
   "cell_type": "code",
   "execution_count": 22,
   "id": "plain-lender",
   "metadata": {},
   "outputs": [
    {
     "name": "stdout",
     "output_type": "stream",
     "text": [
      "2 4 6 8 10 12 14 16 18 \n",
      "3 6 9 12 15 18 21 24 27 \n",
      "4 8 12 16 20 24 28 32 36 \n",
      "5 10 15 20 25 30 35 40 45 \n",
      "6 12 18 24 30 36 42 48 54 \n",
      "7 14 21 28 35 42 49 56 63 \n",
      "8 16 24 32 40 48 56 64 72 \n",
      "9 18 27 36 45 54 63 72 81 \n"
     ]
    }
   ],
   "source": [
    "#13 이중 for 루프를 기반으로 구구단 2단~9단까지 전부 출력하라.\n",
    "\n",
    "for i in range(2,10):\n",
    "    for j in range(1,10):\n",
    "        print(i*j, end=' ')\n",
    "    print()"
   ]
  },
  {
   "cell_type": "code",
   "execution_count": 23,
   "id": "municipal-snowboard",
   "metadata": {},
   "outputs": [
    {
     "name": "stdout",
     "output_type": "stream",
     "text": [
      "******\n",
      "*****\n",
      "****\n",
      "***\n",
      "**\n",
      "*\n"
     ]
    }
   ],
   "source": [
    "#14 이중 for 루프를 기반으로 아래와 같이 별을 출력하라.\n",
    "\n",
    "for i in range(6,0,-1):\n",
    "    for j in range(i):\n",
    "        print(\"*\",end=\"\")\n",
    "    print()"
   ]
  }
 ],
 "metadata": {
  "kernelspec": {
   "display_name": "Python 3",
   "language": "python",
   "name": "python3"
  },
  "language_info": {
   "codemirror_mode": {
    "name": "ipython",
    "version": 3
   },
   "file_extension": ".py",
   "mimetype": "text/x-python",
   "name": "python",
   "nbconvert_exporter": "python",
   "pygments_lexer": "ipython3",
   "version": "3.8.5"
  }
 },
 "nbformat": 4,
 "nbformat_minor": 5
}
